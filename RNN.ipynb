{
  "nbformat": 4,
  "nbformat_minor": 0,
  "metadata": {
    "colab": {
      "provenance": []
    },
    "kernelspec": {
      "name": "python3",
      "display_name": "Python 3"
    },
    "language_info": {
      "name": "python"
    }
  },
  "cells": [
    {
      "cell_type": "code",
      "execution_count": 1,
      "metadata": {
        "id": "pIYVObTNO-fp"
      },
      "outputs": [],
      "source": [
        "import numpy as np\n",
        "from keras.models import Sequential\n",
        "from keras.layers import SimpleRNN, Dense, Embedding\n",
        "from keras.preprocessing.text import Tokenizer\n",
        "from keras.preprocessing.sequence import pad_sequences\n",
        "from keras.utils import to_categorical"
      ]
    },
    {
      "cell_type": "code",
      "source": [
        "# Generating some example sequential data\n",
        "sentences = ['I love learning','I love python','I hate school',\n",
        "             'Recurrent Neural Networks are powerful']"
      ],
      "metadata": {
        "id": "rwjUl8kNQCI7"
      },
      "execution_count": 2,
      "outputs": []
    },
    {
      "cell_type": "code",
      "source": [
        "# Tokenizing the words\n",
        "tokenizer = Tokenizer()\n",
        "tokenizer.fit_on_texts(sentences)\n",
        "total_words = len(tokenizer.word_index) + 1"
      ],
      "metadata": {
        "id": "v0TEpkckQFyN"
      },
      "execution_count": 3,
      "outputs": []
    },
    {
      "cell_type": "code",
      "source": [
        "# Creating input sequences and their corresponding next words\n",
        "input_sequences = []\n",
        "for sentence in sentences:\n",
        "    tokenized_sentence = tokenizer.texts_to_sequences([sentence])[0]\n",
        "    for i in range(1, len(tokenized_sentence)):\n",
        "        n_gram_sequence = tokenized_sentence[:i+1]\n",
        "        input_sequences.append(n_gram_sequence)"
      ],
      "metadata": {
        "id": "WB-iKIuDQJKG"
      },
      "execution_count": 4,
      "outputs": []
    },
    {
      "cell_type": "code",
      "source": [
        "# Padding sequences for consistent input size\n",
        "max_sequence_length = max([len(seq) for seq in input_sequences])\n",
        "input_sequences = pad_sequences(input_sequences, maxlen=max_sequence_length, padding='pre')"
      ],
      "metadata": {
        "id": "39jkLO1TQT1R"
      },
      "execution_count": 5,
      "outputs": []
    },
    {
      "cell_type": "code",
      "source": [
        "# Creating input and output data\n",
        "X, y = input_sequences[:, :-1], input_sequences[:, -1]\n",
        "y = to_categorical(y, num_classes=total_words)"
      ],
      "metadata": {
        "id": "MSGJQ1QQQZf0"
      },
      "execution_count": 6,
      "outputs": []
    },
    {
      "cell_type": "code",
      "source": [
        "# Building a simple RNN model\n",
        "model = Sequential()\n",
        "model.add(Embedding(input_dim=total_words, output_dim=50, input_length=max_sequence_length-1))\n",
        "model.add(SimpleRNN(100, return_sequences=True))\n",
        "model.add(SimpleRNN(100))\n",
        "model.add(Dense(total_words, activation='softmax'))"
      ],
      "metadata": {
        "id": "KQlTGtAiQgMY"
      },
      "execution_count": 7,
      "outputs": []
    },
    {
      "cell_type": "code",
      "source": [
        "# Compiling the model\n",
        "model.compile(optimizer='adam', loss='categorical_crossentropy', metrics=['accuracy'])"
      ],
      "metadata": {
        "id": "qT3RTLEHQm2e"
      },
      "execution_count": 8,
      "outputs": []
    },
    {
      "cell_type": "code",
      "source": [
        "# Training the model\n",
        "model.fit(X, y, epochs=50, verbose=2)"
      ],
      "metadata": {
        "colab": {
          "base_uri": "https://localhost:8080/"
        },
        "id": "5HHUg_9ZQrtI",
        "outputId": "ed43fe5a-2317-4b79-d42c-c92f3fd3bdf3"
      },
      "execution_count": 9,
      "outputs": [
        {
          "output_type": "stream",
          "name": "stdout",
          "text": [
            "Epoch 1/50\n",
            "1/1 - 3s - loss: 2.4736 - accuracy: 0.1000 - 3s/epoch - 3s/step\n",
            "Epoch 2/50\n",
            "1/1 - 0s - loss: 2.3775 - accuracy: 0.3000 - 19ms/epoch - 19ms/step\n",
            "Epoch 3/50\n",
            "1/1 - 0s - loss: 2.2855 - accuracy: 0.3000 - 18ms/epoch - 18ms/step\n",
            "Epoch 4/50\n",
            "1/1 - 0s - loss: 2.1951 - accuracy: 0.3000 - 15ms/epoch - 15ms/step\n",
            "Epoch 5/50\n",
            "1/1 - 0s - loss: 2.1059 - accuracy: 0.3000 - 15ms/epoch - 15ms/step\n",
            "Epoch 6/50\n",
            "1/1 - 0s - loss: 2.0186 - accuracy: 0.3000 - 19ms/epoch - 19ms/step\n",
            "Epoch 7/50\n",
            "1/1 - 0s - loss: 1.9343 - accuracy: 0.3000 - 20ms/epoch - 20ms/step\n",
            "Epoch 8/50\n",
            "1/1 - 0s - loss: 1.8532 - accuracy: 0.4000 - 15ms/epoch - 15ms/step\n",
            "Epoch 9/50\n",
            "1/1 - 0s - loss: 1.7739 - accuracy: 0.4000 - 15ms/epoch - 15ms/step\n",
            "Epoch 10/50\n",
            "1/1 - 0s - loss: 1.6946 - accuracy: 0.4000 - 17ms/epoch - 17ms/step\n",
            "Epoch 11/50\n",
            "1/1 - 0s - loss: 1.6159 - accuracy: 0.4000 - 15ms/epoch - 15ms/step\n",
            "Epoch 12/50\n",
            "1/1 - 0s - loss: 1.5406 - accuracy: 0.4000 - 15ms/epoch - 15ms/step\n",
            "Epoch 13/50\n",
            "1/1 - 0s - loss: 1.4712 - accuracy: 0.5000 - 16ms/epoch - 16ms/step\n",
            "Epoch 14/50\n",
            "1/1 - 0s - loss: 1.4083 - accuracy: 0.7000 - 16ms/epoch - 16ms/step\n",
            "Epoch 15/50\n",
            "1/1 - 0s - loss: 1.3497 - accuracy: 0.7000 - 15ms/epoch - 15ms/step\n",
            "Epoch 16/50\n",
            "1/1 - 0s - loss: 1.2933 - accuracy: 0.7000 - 16ms/epoch - 16ms/step\n",
            "Epoch 17/50\n",
            "1/1 - 0s - loss: 1.2384 - accuracy: 0.7000 - 16ms/epoch - 16ms/step\n",
            "Epoch 18/50\n",
            "1/1 - 0s - loss: 1.1865 - accuracy: 0.7000 - 15ms/epoch - 15ms/step\n",
            "Epoch 19/50\n",
            "1/1 - 0s - loss: 1.1385 - accuracy: 0.6000 - 15ms/epoch - 15ms/step\n",
            "Epoch 20/50\n",
            "1/1 - 0s - loss: 1.0938 - accuracy: 0.7000 - 15ms/epoch - 15ms/step\n",
            "Epoch 21/50\n",
            "1/1 - 0s - loss: 1.0505 - accuracy: 0.7000 - 15ms/epoch - 15ms/step\n",
            "Epoch 22/50\n",
            "1/1 - 0s - loss: 1.0077 - accuracy: 0.7000 - 21ms/epoch - 21ms/step\n",
            "Epoch 23/50\n",
            "1/1 - 0s - loss: 0.9667 - accuracy: 0.7000 - 18ms/epoch - 18ms/step\n",
            "Epoch 24/50\n",
            "1/1 - 0s - loss: 0.9288 - accuracy: 0.7000 - 17ms/epoch - 17ms/step\n",
            "Epoch 25/50\n",
            "1/1 - 0s - loss: 0.8936 - accuracy: 0.7000 - 15ms/epoch - 15ms/step\n",
            "Epoch 26/50\n",
            "1/1 - 0s - loss: 0.8599 - accuracy: 0.7000 - 16ms/epoch - 16ms/step\n",
            "Epoch 27/50\n",
            "1/1 - 0s - loss: 0.8272 - accuracy: 0.7000 - 15ms/epoch - 15ms/step\n",
            "Epoch 28/50\n",
            "1/1 - 0s - loss: 0.7964 - accuracy: 0.7000 - 15ms/epoch - 15ms/step\n",
            "Epoch 29/50\n",
            "1/1 - 0s - loss: 0.7682 - accuracy: 0.7000 - 16ms/epoch - 16ms/step\n",
            "Epoch 30/50\n",
            "1/1 - 0s - loss: 0.7424 - accuracy: 0.7000 - 17ms/epoch - 17ms/step\n",
            "Epoch 31/50\n",
            "1/1 - 0s - loss: 0.7181 - accuracy: 0.7000 - 15ms/epoch - 15ms/step\n",
            "Epoch 32/50\n",
            "1/1 - 0s - loss: 0.6948 - accuracy: 0.7000 - 16ms/epoch - 16ms/step\n",
            "Epoch 33/50\n",
            "1/1 - 0s - loss: 0.6730 - accuracy: 0.7000 - 14ms/epoch - 14ms/step\n",
            "Epoch 34/50\n",
            "1/1 - 0s - loss: 0.6528 - accuracy: 0.8000 - 15ms/epoch - 15ms/step\n",
            "Epoch 35/50\n",
            "1/1 - 0s - loss: 0.6341 - accuracy: 0.8000 - 16ms/epoch - 16ms/step\n",
            "Epoch 36/50\n",
            "1/1 - 0s - loss: 0.6160 - accuracy: 0.8000 - 14ms/epoch - 14ms/step\n",
            "Epoch 37/50\n",
            "1/1 - 0s - loss: 0.5982 - accuracy: 0.8000 - 14ms/epoch - 14ms/step\n",
            "Epoch 38/50\n",
            "1/1 - 0s - loss: 0.5810 - accuracy: 0.8000 - 16ms/epoch - 16ms/step\n",
            "Epoch 39/50\n",
            "1/1 - 0s - loss: 0.5645 - accuracy: 0.8000 - 14ms/epoch - 14ms/step\n",
            "Epoch 40/50\n",
            "1/1 - 0s - loss: 0.5484 - accuracy: 0.8000 - 19ms/epoch - 19ms/step\n",
            "Epoch 41/50\n",
            "1/1 - 0s - loss: 0.5326 - accuracy: 0.8000 - 21ms/epoch - 21ms/step\n",
            "Epoch 42/50\n",
            "1/1 - 0s - loss: 0.5170 - accuracy: 0.8000 - 19ms/epoch - 19ms/step\n",
            "Epoch 43/50\n",
            "1/1 - 0s - loss: 0.5021 - accuracy: 0.8000 - 22ms/epoch - 22ms/step\n",
            "Epoch 44/50\n",
            "1/1 - 0s - loss: 0.4879 - accuracy: 0.8000 - 20ms/epoch - 20ms/step\n",
            "Epoch 45/50\n",
            "1/1 - 0s - loss: 0.4744 - accuracy: 0.8000 - 28ms/epoch - 28ms/step\n",
            "Epoch 46/50\n",
            "1/1 - 0s - loss: 0.4616 - accuracy: 0.8000 - 15ms/epoch - 15ms/step\n",
            "Epoch 47/50\n",
            "1/1 - 0s - loss: 0.4497 - accuracy: 0.8000 - 20ms/epoch - 20ms/step\n",
            "Epoch 48/50\n",
            "1/1 - 0s - loss: 0.4385 - accuracy: 0.8000 - 15ms/epoch - 15ms/step\n",
            "Epoch 49/50\n",
            "1/1 - 0s - loss: 0.4282 - accuracy: 0.8000 - 17ms/epoch - 17ms/step\n",
            "Epoch 50/50\n",
            "1/1 - 0s - loss: 0.4187 - accuracy: 0.8000 - 18ms/epoch - 18ms/step\n"
          ]
        },
        {
          "output_type": "execute_result",
          "data": {
            "text/plain": [
              "<keras.src.callbacks.History at 0x785e3948f3a0>"
            ]
          },
          "metadata": {},
          "execution_count": 9
        }
      ]
    },
    {
      "cell_type": "code",
      "source": [
        "# Generating text using the trained model\n",
        "seed_text = input(\"Enter the starting word: \")\n",
        "next_words = int(input(\"Enter how many words to predict: \"))\n",
        "\n",
        "for _ in range(next_words):\n",
        "    tokenized_seed = tokenizer.texts_to_sequences([seed_text])[0]\n",
        "    tokenized_seed = pad_sequences([tokenized_seed], maxlen=max_sequence_length-1, padding='pre')\n",
        "    predicted_word_index = np.argmax(model.predict(tokenized_seed), axis=-1)\n",
        "    predicted_word = tokenizer.index_word[predicted_word_index[0]]\n",
        "    seed_text += \" \" + predicted_word\n",
        "\n",
        "print(seed_text)"
      ],
      "metadata": {
        "colab": {
          "base_uri": "https://localhost:8080/"
        },
        "id": "fDweU0jqQzwA",
        "outputId": "a96600e3-b12c-4786-b62c-42750424a68b"
      },
      "execution_count": 10,
      "outputs": [
        {
          "output_type": "stream",
          "name": "stdout",
          "text": [
            "Enter the starting word: recurrent\n",
            "Enter how many words to predict: 2\n",
            "1/1 [==============================] - 0s 328ms/step\n",
            "1/1 [==============================] - 0s 23ms/step\n",
            "recurrent neural networks\n"
          ]
        }
      ]
    }
  ]
}